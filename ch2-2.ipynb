{
 "cells": [
  {
   "cell_type": "code",
   "execution_count": 3,
   "id": "0a68c1d3-b0b7-4d5f-a551-b8d656b1f759",
   "metadata": {},
   "outputs": [],
   "source": [
    "%matplotlib inline\n",
    "import pandas as pd\n",
    "import numpy as np\n",
    "import matplotlib.pyplot as plt\n",
    "import seaborn as sns\n",
    "from sklearn.linear_model import LinearRegression"
   ]
  },
  {
   "cell_type": "code",
   "execution_count": 4,
   "id": "e1d38baf-38b4-4aee-8ba8-4dc2805ef249",
   "metadata": {},
   "outputs": [
    {
     "data": {
      "text/html": [
       "<div>\n",
       "<style scoped>\n",
       "    .dataframe tbody tr th:only-of-type {\n",
       "        vertical-align: middle;\n",
       "    }\n",
       "\n",
       "    .dataframe tbody tr th {\n",
       "        vertical-align: top;\n",
       "    }\n",
       "\n",
       "    .dataframe thead th {\n",
       "        text-align: right;\n",
       "    }\n",
       "</style>\n",
       "<table border=\"1\" class=\"dataframe\">\n",
       "  <thead>\n",
       "    <tr style=\"text-align: right;\">\n",
       "      <th></th>\n",
       "      <th>CRIM</th>\n",
       "      <th>ZN</th>\n",
       "      <th>INDUS</th>\n",
       "      <th>CHAS</th>\n",
       "      <th>NOX</th>\n",
       "      <th>RM</th>\n",
       "      <th>AGE</th>\n",
       "      <th>DIS</th>\n",
       "      <th>RAD</th>\n",
       "      <th>TAX</th>\n",
       "      <th>PTRATIO</th>\n",
       "      <th>B</th>\n",
       "      <th>LSTAT</th>\n",
       "      <th>MEDV</th>\n",
       "    </tr>\n",
       "  </thead>\n",
       "  <tbody>\n",
       "    <tr>\n",
       "      <th>0</th>\n",
       "      <td>0.00632</td>\n",
       "      <td>18.0</td>\n",
       "      <td>2.31</td>\n",
       "      <td>0</td>\n",
       "      <td>0.538</td>\n",
       "      <td>6.575</td>\n",
       "      <td>65.2</td>\n",
       "      <td>4.0900</td>\n",
       "      <td>1</td>\n",
       "      <td>296.0</td>\n",
       "      <td>15.3</td>\n",
       "      <td>396.90</td>\n",
       "      <td>4.98</td>\n",
       "      <td>24.0</td>\n",
       "    </tr>\n",
       "    <tr>\n",
       "      <th>1</th>\n",
       "      <td>0.02731</td>\n",
       "      <td>0.0</td>\n",
       "      <td>7.07</td>\n",
       "      <td>0</td>\n",
       "      <td>0.469</td>\n",
       "      <td>6.421</td>\n",
       "      <td>78.9</td>\n",
       "      <td>4.9671</td>\n",
       "      <td>2</td>\n",
       "      <td>242.0</td>\n",
       "      <td>17.8</td>\n",
       "      <td>396.90</td>\n",
       "      <td>9.14</td>\n",
       "      <td>21.6</td>\n",
       "    </tr>\n",
       "    <tr>\n",
       "      <th>2</th>\n",
       "      <td>0.02729</td>\n",
       "      <td>0.0</td>\n",
       "      <td>7.07</td>\n",
       "      <td>0</td>\n",
       "      <td>0.469</td>\n",
       "      <td>7.185</td>\n",
       "      <td>61.1</td>\n",
       "      <td>4.9671</td>\n",
       "      <td>2</td>\n",
       "      <td>242.0</td>\n",
       "      <td>17.8</td>\n",
       "      <td>392.83</td>\n",
       "      <td>4.03</td>\n",
       "      <td>34.7</td>\n",
       "    </tr>\n",
       "    <tr>\n",
       "      <th>3</th>\n",
       "      <td>0.03237</td>\n",
       "      <td>0.0</td>\n",
       "      <td>2.18</td>\n",
       "      <td>0</td>\n",
       "      <td>0.458</td>\n",
       "      <td>6.998</td>\n",
       "      <td>45.8</td>\n",
       "      <td>6.0622</td>\n",
       "      <td>3</td>\n",
       "      <td>222.0</td>\n",
       "      <td>18.7</td>\n",
       "      <td>394.63</td>\n",
       "      <td>2.94</td>\n",
       "      <td>33.4</td>\n",
       "    </tr>\n",
       "    <tr>\n",
       "      <th>4</th>\n",
       "      <td>0.06905</td>\n",
       "      <td>0.0</td>\n",
       "      <td>2.18</td>\n",
       "      <td>0</td>\n",
       "      <td>0.458</td>\n",
       "      <td>7.147</td>\n",
       "      <td>54.2</td>\n",
       "      <td>6.0622</td>\n",
       "      <td>3</td>\n",
       "      <td>222.0</td>\n",
       "      <td>18.7</td>\n",
       "      <td>396.90</td>\n",
       "      <td>5.33</td>\n",
       "      <td>36.2</td>\n",
       "    </tr>\n",
       "  </tbody>\n",
       "</table>\n",
       "</div>"
      ],
      "text/plain": [
       "      CRIM    ZN  INDUS  CHAS    NOX     RM   AGE     DIS  RAD    TAX  \\\n",
       "0  0.00632  18.0   2.31     0  0.538  6.575  65.2  4.0900    1  296.0   \n",
       "1  0.02731   0.0   7.07     0  0.469  6.421  78.9  4.9671    2  242.0   \n",
       "2  0.02729   0.0   7.07     0  0.469  7.185  61.1  4.9671    2  242.0   \n",
       "3  0.03237   0.0   2.18     0  0.458  6.998  45.8  6.0622    3  222.0   \n",
       "4  0.06905   0.0   2.18     0  0.458  7.147  54.2  6.0622    3  222.0   \n",
       "\n",
       "   PTRATIO       B  LSTAT  MEDV  \n",
       "0     15.3  396.90   4.98  24.0  \n",
       "1     17.8  396.90   9.14  21.6  \n",
       "2     17.8  392.83   4.03  34.7  \n",
       "3     18.7  394.63   2.94  33.4  \n",
       "4     18.7  396.90   5.33  36.2  "
      ]
     },
     "execution_count": 4,
     "metadata": {},
     "output_type": "execute_result"
    }
   ],
   "source": [
    "# ボストン住宅価格データセットの読み込み\n",
    "df = pd.read_csv('https://archive.ics.uci.edu/ml/machine-learning-databases/housing/housing.data',header=None,sep='\\s+')\n",
    "df.columns=['CRIM','ZN','INDUS','CHAS','NOX','RM','AGE','DIS','RAD','TAX','PTRATIO','B','LSTAT','MEDV',]\n",
    "df.head()"
   ]
  },
  {
   "cell_type": "code",
   "execution_count": 5,
   "id": "55d34191-71e4-439a-ae2b-6591fe0d6f06",
   "metadata": {},
   "outputs": [
    {
     "name": "stdout",
     "output_type": "stream",
     "text": [
      "X_train:       RM\n",
      "0  6.575\n",
      "1  6.421\n",
      "2  7.185\n",
      "Y_train:    MEDV\n",
      "0  24.0\n",
      "1  21.6\n",
      "2  34.7\n"
     ]
    }
   ],
   "source": [
    "# 特徴量と目的変数の設定\n",
    "X_train = df.loc[:99, ['RM']]\n",
    "Y_train = df.loc[:99, ['MEDV']]\n",
    "print('X_train:',X_train[:3])\n",
    "print('Y_train:',Y_train[:3])"
   ]
  },
  {
   "cell_type": "code",
   "execution_count": 6,
   "id": "1e79df72-ff36-44a5-a001-35dc0a43ddfc",
   "metadata": {},
   "outputs": [
    {
     "data": {
      "text/plain": [
       "{'copy_X': True,\n",
       " 'fit_intercept': True,\n",
       " 'n_jobs': None,\n",
       " 'normalize': 'deprecated',\n",
       " 'positive': False}"
      ]
     },
     "execution_count": 6,
     "metadata": {},
     "output_type": "execute_result"
    }
   ],
   "source": [
    "# 線形回帰モデルの学習\n",
    "model = LinearRegression()\n",
    "model.fit(X_train, Y_train)\n",
    "model.get_params()"
   ]
  },
  {
   "cell_type": "code",
   "execution_count": 7,
   "id": "68987f02-854f-4fe6-a2d6-80bdcc56f4fd",
   "metadata": {},
   "outputs": [
    {
     "data": {
      "text/plain": [
       "array([[25.7910094 ],\n",
       "       [24.21659604],\n",
       "       [32.02732208],\n",
       "       [30.11553442],\n",
       "       [31.63883047],\n",
       "       [24.30860721],\n",
       "       [20.0351995 ],\n",
       "       [21.67095365],\n",
       "       [16.14005995],\n",
       "       [19.9534118 ],\n",
       "       [23.76676365],\n",
       "       [20.00452911],\n",
       "       [18.77771351],\n",
       "       [19.39112131],\n",
       "       [20.89397043],\n",
       "       [18.21542302],\n",
       "       [19.24799282],\n",
       "       [19.81028331],\n",
       "       [14.35095385],\n",
       "       [17.12151244],\n",
       "       [15.51642868],\n",
       "       [19.55469672],\n",
       "       [21.36424975],\n",
       "       [18.00073029],\n",
       "       [19.13553473],\n",
       "       [15.81290912],\n",
       "       [18.00073029],\n",
       "       [20.39302072],\n",
       "       [24.97313233],\n",
       "       [26.80313228],\n",
       "       [16.97838395],\n",
       "       [20.64860731],\n",
       "       [19.40134477],\n",
       "       [16.85570239],\n",
       "       [20.89397043],\n",
       "       [19.2275459 ],\n",
       "       [18.28698726],\n",
       "       [18.37899843],\n",
       "       [19.56492019],\n",
       "       [25.99547867],\n",
       "       [30.38134447],\n",
       "       [27.78458476],\n",
       "       [21.64028326],\n",
       "       [22.06966872],\n",
       "       [20.61793692],\n",
       "       [16.66145658],\n",
       "       [17.72469678],\n",
       "       [20.21922185],\n",
       "       [13.76821644],\n",
       "       [15.84357951],\n",
       "       [19.5342498 ],\n",
       "       [21.08821624],\n",
       "       [25.13670774],\n",
       "       [19.89207102],\n",
       "       [18.76749004],\n",
       "       [32.68162373],\n",
       "       [23.82810443],\n",
       "       [28.25486408],\n",
       "       [21.39492014],\n",
       "       [19.16620512],\n",
       "       [17.26464092],\n",
       "       [19.56492019],\n",
       "       [24.57441726],\n",
       "       [27.70279706],\n",
       "       [31.19922154],\n",
       "       [22.87732233],\n",
       "       [17.73492024],\n",
       "       [18.66525541],\n",
       "       [15.7617918 ],\n",
       "       [18.73681965],\n",
       "       [24.17570218],\n",
       "       [19.51380287],\n",
       "       [20.57704307],\n",
       "       [22.41726648],\n",
       "       [22.70352345],\n",
       "       [22.83642848],\n",
       "       [22.76486423],\n",
       "       [21.34380282],\n",
       "       [22.28436145],\n",
       "       [18.62436156],\n",
       "       [27.34497584],\n",
       "       [26.24084179],\n",
       "       [23.00000389],\n",
       "       [21.61983633],\n",
       "       [23.88944521],\n",
       "       [26.35329989],\n",
       "       [20.0658699 ],\n",
       "       [21.14955702],\n",
       "       [30.20754559],\n",
       "       [30.94363495],\n",
       "       [24.17570218],\n",
       "       [24.05302062],\n",
       "       [24.43128877],\n",
       "       [22.06966872],\n",
       "       [22.45816033],\n",
       "       [26.30218257],\n",
       "       [21.57894248],\n",
       "       [41.06486372],\n",
       "       [38.51922134],\n",
       "       [34.38894212]])"
      ]
     },
     "execution_count": 7,
     "metadata": {},
     "output_type": "execute_result"
    }
   ],
   "source": [
    "model.predict(X_train)"
   ]
  },
  {
   "cell_type": "code",
   "execution_count": 10,
   "id": "73bffb1d-557f-4ffd-9a2a-4b5c4e6c65e7",
   "metadata": {},
   "outputs": [
    {
     "name": "stderr",
     "output_type": "stream",
     "text": [
      "/home/koumon/miniconda3/envs/py38/lib/python3.8/site-packages/sklearn/base.py:450: UserWarning: X does not have valid feature names, but LinearRegression was fitted with feature names\n",
      "  warnings.warn(\n"
     ]
    },
    {
     "data": {
      "text/plain": [
       "<Figure size 800x400 with 0 Axes>"
      ]
     },
     "metadata": {},
     "output_type": "display_data"
    }
   ],
   "source": [
    "plt.figure(figsize=(8,4))\n",
    "X = X_train.values.flatten()\n",
    "y = Y_train.values\n",
    "\n",
    "x_plt = np.arange(X.min(), X.max(), 0.01)[:, np.newaxis]\n",
    "y_pred = model.predict(x_plt)"
   ]
  },
  {
   "cell_type": "code",
   "execution_count": null,
   "id": "ffc6ada7-0186-4a22-9780-38523447e46c",
   "metadata": {},
   "outputs": [],
   "source": []
  }
 ],
 "metadata": {
  "kernelspec": {
   "display_name": "Python 3 (ipykernel)",
   "language": "python",
   "name": "python3"
  },
  "language_info": {
   "codemirror_mode": {
    "name": "ipython",
    "version": 3
   },
   "file_extension": ".py",
   "mimetype": "text/x-python",
   "name": "python",
   "nbconvert_exporter": "python",
   "pygments_lexer": "ipython3",
   "version": "3.8.13"
  }
 },
 "nbformat": 4,
 "nbformat_minor": 5
}
